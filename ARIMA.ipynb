{
 "cells": [
  {
   "cell_type": "code",
   "execution_count": 1,
   "id": "1577c2fe-7116-4d49-b224-2b61154cd927",
   "metadata": {},
   "outputs": [],
   "source": [
    "import torch\n",
    "import torch.nn as nn\n",
    "import torch.optim as optim\n",
    "import pandas as pd\n",
    "from math import sqrt\n",
    "from sklearn.metrics import mean_squared_error\n",
    "import matplotlib.pyplot as plt"
   ]
  },
  {
   "cell_type": "code",
   "execution_count": 2,
   "id": "999abcff-0bb1-4290-9dd1-d5629a5270bb",
   "metadata": {},
   "outputs": [],
   "source": [
    "# Load Data\n",
    "data_1 = pd.read_csv('Data_bengaluru/combined_cleaned.csv')\n",
    "data_1 = data_1[data_1['PM25'] < 200]\n"
   ]
  },
  {
   "cell_type": "code",
   "execution_count": 3,
   "id": "c1c85069-e0b4-4544-a752-1a08588358ef",
   "metadata": {},
   "outputs": [],
   "source": [
    "# Define train and test splits\n",
    "X = data_1['PM25'].values\n",
    "train, test = X[:140000], X[140000:]\n"
   ]
  },
  {
   "cell_type": "code",
   "execution_count": 4,
   "id": "acfea1a1-d366-4072-baec-b2fd5eef566d",
   "metadata": {},
   "outputs": [],
   "source": [
    "# ARIMA Model in PyTorch\n",
    "class ARIMA(nn.Module):\n",
    "    def __init__(self, p, d, q):\n",
    "        super(ARIMA, self).__init__()\n",
    "        self.p = p\n",
    "        self.d = d\n",
    "        self.q = q\n",
    "        self.ar_weights = nn.Parameter(torch.randn(p, dtype=torch.float32))\n",
    "        self.ma_weights = nn.Parameter(torch.randn(q, dtype=torch.float32))\n",
    "        self.bias = nn.Parameter(torch.randn(1, dtype=torch.float32))\n",
    "\n",
    "    def forward(self, history, lag):\n",
    "        # Compute AR component\n",
    "        ar_component = torch.sum(self.ar_weights * history[-self.p:])\n",
    "        # Compute MA component\n",
    "        ma_component = torch.sum(self.ma_weights * lag[-self.q:])\n",
    "        # Combine with bias\n",
    "        return self.bias + ar_component + ma_component\n"
   ]
  },
  {
   "cell_type": "code",
   "execution_count": 5,
   "id": "47469a4b-0469-4f57-8503-3494f5ac9deb",
   "metadata": {},
   "outputs": [],
   "source": [
    "# Initialize the ARIMA model\n",
    "p, d, q = 3, 1, 5\n",
    "model = ARIMA(p, d, q)\n",
    "optimizer = optim.Adam(model.parameters(), lr=0.01)\n",
    "criterion = nn.MSELoss()\n"
   ]
  },
  {
   "cell_type": "code",
   "execution_count": 6,
   "id": "e9460cf6-7dc7-4cfb-b0eb-c4ecc99d50f9",
   "metadata": {},
   "outputs": [],
   "source": [
    "# Prepare training data (differencing for integration order `d`)\n",
    "def difference(data, order):\n",
    "    diff = []\n",
    "    for i in range(order, len(data)):\n",
    "        diff.append(data[i] - data[i - order])\n",
    "    return torch.tensor(diff, dtype=torch.float32)\n",
    "\n",
    "train_diff = difference(train, d)\n",
    "test_diff = difference(test, d)"
   ]
  },
  {
   "cell_type": "code",
   "execution_count": null,
   "id": "ef508ed7-6711-447f-9ae4-791908bde020",
   "metadata": {},
   "outputs": [
    {
     "name": "stderr",
     "output_type": "stream",
     "text": [
      "/tmp/ipykernel_4236/3616129090.py:13: UserWarning: To copy construct from a tensor, it is recommended to use sourceTensor.clone().detach() or sourceTensor.clone().detach().requires_grad_(True), rather than torch.tensor(sourceTensor).\n",
      "  input_lag = torch.tensor(lag, dtype=torch.float32)\n",
      "/home/shreevidyag/anaconda3/envs/env1/lib/python3.13/site-packages/torch/nn/modules/loss.py:608: UserWarning: Using a target size (torch.Size([])) that is different to the input size (torch.Size([1])). This will likely lead to incorrect results due to broadcasting. Please ensure they have the same size.\n",
      "  return F.mse_loss(input, target, reduction=self.reduction)\n"
     ]
    },
    {
     "name": "stdout",
     "output_type": "stream",
     "text": [
      "Epoch 1, Loss: 24982269.4223\n"
     ]
    }
   ],
   "source": [
    "# Training Loop\n",
    "history = train_diff[:p].tolist()\n",
    "lag = torch.zeros(q, dtype=torch.float32)\n",
    "predictions = []\n",
    "\n",
    "for epoch in range(100):  # Train for 10 epochs\n",
    "    total_loss = 0.0\n",
    "    for t in range(len(train_diff) - p):\n",
    "        optimizer.zero_grad()\n",
    "\n",
    "        # Prepare input\n",
    "        input_history = torch.tensor(history[-p:], dtype=torch.float32)\n",
    "        input_lag = torch.tensor(lag, dtype=torch.float32)\n",
    "\n",
    "        # Forward pass\n",
    "        yhat = model(input_history, input_lag)\n",
    "        loss = criterion(yhat, train_diff[t])\n",
    "\n",
    "        # Backward pass and optimization\n",
    "        loss.backward()\n",
    "        optimizer.step()\n",
    "\n",
    "        # Update history and lag\n",
    "        obs = train_diff[t].item()\n",
    "        history.append(obs)\n",
    "        lag = torch.cat((lag[1:], torch.tensor([obs])))\n",
    "\n",
    "        total_loss += loss.item()\n",
    "    print(f'Epoch {epoch + 1}, Loss: {total_loss:.4f}')\n"
   ]
  },
  {
   "cell_type": "code",
   "execution_count": null,
   "id": "90fab084-0c27-4a03-81de-5d6d10494478",
   "metadata": {},
   "outputs": [],
   "source": [
    "# Prediction\n",
    "history = train_diff[-p:].tolist()\n",
    "lag = torch.zeros(q, dtype=torch.float32)\n",
    "for t in range(len(test_diff)):\n",
    "    with torch.no_grad():\n",
    "        input_history = torch.tensor(history[-p:], dtype=torch.float32)\n",
    "        input_lag = torch.tensor(lag, dtype=torch.float32)\n",
    "\n",
    "        yhat = model(input_history, input_lag).item()\n",
    "        predictions.append(yhat)\n",
    "\n",
    "        obs = test_diff[t].item()\n",
    "        history.append(obs)\n",
    "        lag = torch.cat((lag[1:], torch.tensor([obs])))\n"
   ]
  },
  {
   "cell_type": "code",
   "execution_count": null,
   "id": "0dfcb35a-08b6-49a6-9911-d3854570f917",
   "metadata": {},
   "outputs": [],
   "source": [
    "# Reverse differencing to restore actual values\n",
    "def reverse_difference(original, diff, order):\n",
    "    restored = list(original[:order])\n",
    "    for i in range(len(diff)):\n",
    "        restored.append(restored[-1] + diff[i])\n",
    "    return restored\n",
    "\n",
    "predictions = reverse_difference(test, predictions, d)\n"
   ]
  },
  {
   "cell_type": "code",
   "execution_count": null,
   "id": "a54c0e0e-e95c-45cc-9107-e9fc16e2b405",
   "metadata": {},
   "outputs": [],
   "source": [
    "# Evaluation\n",
    "error = sqrt(mean_squared_error(test, predictions))\n",
    "print(f'Test RMSE: {error:.3f}')\n"
   ]
  },
  {
   "cell_type": "code",
   "execution_count": null,
   "id": "a8102bb4-32f9-4e2b-838e-d286813bed56",
   "metadata": {},
   "outputs": [],
   "source": [
    "# Visualization\n",
    "plt.figure(figsize=(17, 8))\n",
    "plt.plot(test[100:400], label='True Data', color='green')\n",
    "plt.plot(predictions[100:400], label='Prediction', color='red')\n",
    "plt.xlabel(\"Index\", fontsize=20)\n",
    "plt.ylabel(\"PM2.5 Concentration $(mu gm^{-3})$\", fontsize=20)\n",
    "plt.legend()\n",
    "plt.savefig(\"arima_pm25_torch.pdf\")\n",
    "plt.show()"
   ]
  }
 ],
 "metadata": {
  "kernelspec": {
   "display_name": "Python 3 (ipykernel)",
   "language": "python",
   "name": "python3"
  },
  "language_info": {
   "codemirror_mode": {
    "name": "ipython",
    "version": 3
   },
   "file_extension": ".py",
   "mimetype": "text/x-python",
   "name": "python",
   "nbconvert_exporter": "python",
   "pygments_lexer": "ipython3",
   "version": "3.13.1"
  }
 },
 "nbformat": 4,
 "nbformat_minor": 5
}
