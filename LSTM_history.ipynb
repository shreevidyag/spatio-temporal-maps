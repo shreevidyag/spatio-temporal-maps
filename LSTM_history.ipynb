{
 "cells": [
  {
   "cell_type": "code",
   "execution_count": 1,
   "id": "1c873804-6323-462b-8c44-724f9acc00fc",
   "metadata": {},
   "outputs": [],
   "source": [
    "import torch\n",
    "import torch.nn as nn\n",
    "import torch.optim as optim\n",
    "from sklearn.preprocessing import MinMaxScaler\n",
    "import numpy as np\n",
    "import pandas as pd\n",
    "from sklearn.metrics import mean_squared_error, r2_score\n",
    "from scipy.stats import pearsonr\n",
    "import matplotlib.pyplot as plt\n",
    "import time\n"
   ]
  },
  {
   "cell_type": "code",
   "execution_count": 2,
   "id": "b8b97215-9100-4317-8ec3-e7c5e39215b9",
   "metadata": {},
   "outputs": [],
   "source": [
    "# Convert series to supervised learning function (unchanged)\n",
    "def series_to_supervised(data, n_in=1, n_out=1, dropnan=True):\n",
    "    n_vars = 1 if type(data) is list else data.shape[1]\n",
    "    df = pd.DataFrame(data)\n",
    "    cols, names = list(), list()\n",
    "    for i in range(n_in, 0, -1):\n",
    "        cols.append(df.shift(i))\n",
    "        names += [('var%d(t-%d)' % (j+1, i)) for j in range(n_vars)]\n",
    "    for i in range(0, n_out):\n",
    "        cols.append(df.shift(-i))\n",
    "        if i == 0:\n",
    "            names += [('var%d(t)' % (j+1)) for j in range(n_vars)]\n",
    "        else:\n",
    "            names += [('var%d(t+%d)' % (j+1, i)) for j in range(n_vars)]\n",
    "    agg = pd.concat(cols, axis=1)\n",
    "    agg.columns = names\n",
    "    if dropnan:\n",
    "        agg.fillna(0, inplace=True)\n",
    "    return agg"
   ]
  },
  {
   "cell_type": "code",
   "execution_count": 3,
   "id": "cfccc051-6433-42e3-9298-9b3e2aa3addc",
   "metadata": {},
   "outputs": [],
   "source": [
    "# Load and preprocess the data\n",
    "file_path = \"/home/shreevidyag/workspace/Data_bengaluru/combined_cleaned.csv\"\n",
    "data = pd.read_csv(file_path)\n",
    "data.head()\n",
    "data.loc[:, 'PM25'] = data['PM25'].fillna(0)\n",
    "data = data[24:]\n",
    "data.to_csv('pollution1.csv')\n",
    "dataset = pd.read_csv('pollution1.csv', header=0, index_col=0)\n",
    "values = dataset.values\n",
    "values = values.astype('float32')"
   ]
  },
  {
   "cell_type": "code",
   "execution_count": 4,
   "id": "bf349b84-4231-4f02-88be-c5dd41230c07",
   "metadata": {},
   "outputs": [],
   "source": [
    "# Normalize data\n",
    "scaler = MinMaxScaler(feature_range=(0, 1))\n",
    "scaled_features = scaler.fit_transform(values[:, :-1])\n",
    "scaled_label = scaler.fit_transform(values[:, -1].reshape(-1, 1))\n",
    "values = np.column_stack((scaled_features, scaled_label))\n"
   ]
  },
  {
   "cell_type": "code",
   "execution_count": 5,
   "id": "a09a9080-00c1-4b48-a69e-40457c868e70",
   "metadata": {},
   "outputs": [],
   "source": [
    "# Convert to supervised learning format\n",
    "reframed = series_to_supervised(values, 1, 1, True)\n",
    "reframed.drop(reframed.columns[7:12], axis=1, inplace=True)"
   ]
  },
  {
   "cell_type": "code",
   "execution_count": 6,
   "id": "3fa79627-3232-4edb-b0bd-edf40dee987d",
   "metadata": {},
   "outputs": [],
   "source": [
    "# Split data into training and test sets\n",
    "n_train_hours = 120000\n",
    "train = values[:n_train_hours, :]\n",
    "test = values[n_train_hours:, :]\n",
    "\n",
    "train_X, train_y = train[:, :-1], train[:, -1]\n",
    "test_X, test_y = test[:, :-1], test[:, -1]"
   ]
  },
  {
   "cell_type": "code",
   "execution_count": 7,
   "id": "9b0a97f2-4cf3-4add-92a8-41b39c978676",
   "metadata": {},
   "outputs": [],
   "source": [
    "# Reshape data into 3D for LSTM (samples, timesteps, features)\n",
    "train_X = train_X.reshape((train_X.shape[0], 1, train_X.shape[1]))\n",
    "test_X = test_X.reshape((test_X.shape[0], 1, test_X.shape[1]))\n",
    "\n",
    "train_X = torch.tensor(train_X, dtype=torch.float32)\n",
    "train_y = torch.tensor(train_y, dtype=torch.float32)\n",
    "test_X = torch.tensor(test_X, dtype=torch.float32)\n",
    "test_y = torch.tensor(test_y, dtype=torch.float32)\n"
   ]
  },
  {
   "cell_type": "code",
   "execution_count": 8,
   "id": "6e1dd6ca-32fa-448b-bc22-5205309bb65d",
   "metadata": {},
   "outputs": [],
   "source": [
    "# Define the LSTM model with attention mechanism in PyTorch\n",
    "class LSTMWithAttention(nn.Module):\n",
    "    def __init__(self, input_size, hidden_size, output_size):\n",
    "        super(LSTMWithAttention, self).__init__()\n",
    "        self.lstm = nn.LSTM(input_size, hidden_size, batch_first=True)\n",
    "        self.attn = nn.MultiheadAttention(embed_dim=hidden_size, num_heads=1, batch_first=True)\n",
    "        self.fc = nn.Linear(hidden_size, output_size)\n",
    "\n",
    "    def forward(self, x):\n",
    "        lstm_out, _ = self.lstm(x)\n",
    "        attn_out, _ = self.attn(lstm_out, lstm_out, lstm_out)\n",
    "        output = self.fc(attn_out[:, -1, :])  # take the last time step output\n",
    "        return output"
   ]
  },
  {
   "cell_type": "code",
   "execution_count": 9,
   "id": "0bdb86b6-7a53-4ddc-8997-4b9a5f19c138",
   "metadata": {},
   "outputs": [],
   "source": [
    "# Initialize model, loss function, and optimizer\n",
    "model = LSTMWithAttention(input_size=train_X.shape[2], hidden_size=128, output_size=1)\n",
    "criterion = nn.MSELoss()\n",
    "optimizer = optim.Adam(model.parameters(), lr=0.001)"
   ]
  },
  {
   "cell_type": "code",
   "execution_count": null,
   "id": "455f556b-825f-496b-a78f-5093fc19c0ff",
   "metadata": {},
   "outputs": [
    {
     "name": "stdout",
     "output_type": "stream",
     "text": [
      "Epoch 0/1000, Loss: 0.2533097267150879\n",
      "Epoch 5/1000, Loss: 0.1141921728849411\n",
      "Epoch 10/1000, Loss: 0.05391766503453255\n",
      "Epoch 15/1000, Loss: 0.055849339812994\n"
     ]
    }
   ],
   "source": [
    "# Train the model\n",
    "start = time.time()\n",
    "num_epochs = 1000\n",
    "batch_size = 72\n",
    "\n",
    "for epoch in range(num_epochs):\n",
    "    model.train()\n",
    "    optimizer.zero_grad()\n",
    "\n",
    "    output = model(train_X)\n",
    "    loss = criterion(output, train_y.view(-1, 1))\n",
    "    loss.backward()\n",
    "    optimizer.step()\n",
    "\n",
    "    if epoch % 5 == 0:\n",
    "        print(f\"Epoch {epoch}/{num_epochs}, Loss: {loss.item()}\")\n"
   ]
  },
  {
   "cell_type": "code",
   "execution_count": null,
   "id": "afe2330c-afd3-4c6e-95d9-04c108a6e360",
   "metadata": {},
   "outputs": [],
   "source": [
    "# Evaluate the model\n",
    "model.eval()\n",
    "with torch.no_grad():\n",
    "    yhat = model(test_X).numpy()"
   ]
  },
  {
   "cell_type": "code",
   "execution_count": null,
   "id": "51289d3c-c34b-4909-806a-be01091db0cb",
   "metadata": {},
   "outputs": [],
   "source": [
    "# Inverse scaling\n",
    "inv_yhat = np.concatenate((yhat, test_X[:, 1:, :].numpy()[:, :, 0]), axis=1)\n",
    "inv_yhat = scaler.inverse_transform(inv_yhat)\n",
    "inv_yhat = inv_yhat[:, 0]\n",
    "\n",
    "test_y = test_y.numpy().reshape((len(test_y), 1))\n",
    "inv_y = np.concatenate((test_y, test_X[:, 1:, :].numpy()[:, :, 0]), axis=1)\n",
    "inv_y = scaler.inverse_transform(inv_y)\n",
    "inv_y = inv_y[:, 0]\n"
   ]
  },
  {
   "cell_type": "code",
   "execution_count": null,
   "id": "d5e50448-66dd-4361-b929-f26cc82658bb",
   "metadata": {},
   "outputs": [],
   "source": [
    "# Calculate RMSE\n",
    "rmse = np.sqrt(mean_squared_error(inv_y, inv_yhat))\n",
    "print(f'Test RMSE: {rmse:.3f}')"
   ]
  },
  {
   "cell_type": "code",
   "execution_count": null,
   "id": "aa57041d-0a87-4dbe-8a33-d9f85734c0b1",
   "metadata": {},
   "outputs": [],
   "source": [
    "# Plot results\n",
    "def plot_predicted(predicted_data, true_data):\n",
    "    plt.figure(figsize=(17, 8))\n",
    "    plt.plot(true_data, label='True Data', color='green', linewidth=3)\n",
    "    plt.plot(predicted_data, label='Prediction', color='red', linewidth=2)\n",
    "    plt.legend()\n",
    "    plt.show()\n",
    "\n",
    "plot_predicted(inv_yhat[:300], inv_y[:300])"
   ]
  },
  {
   "cell_type": "code",
   "execution_count": null,
   "id": "5bba1472-2f15-4a6b-a52a-f10271f7a61b",
   "metadata": {},
   "outputs": [],
   "source": []
  }
 ],
 "metadata": {
  "kernelspec": {
   "display_name": "Python 3 (ipykernel)",
   "language": "python",
   "name": "python3"
  },
  "language_info": {
   "codemirror_mode": {
    "name": "ipython",
    "version": 3
   },
   "file_extension": ".py",
   "mimetype": "text/x-python",
   "name": "python",
   "nbconvert_exporter": "python",
   "pygments_lexer": "ipython3",
   "version": "3.13.1"
  }
 },
 "nbformat": 4,
 "nbformat_minor": 5
}
